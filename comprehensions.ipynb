{
  "nbformat": 4,
  "nbformat_minor": 0,
  "metadata": {
    "colab": {
      "provenance": [],
      "toc_visible": true,
      "authorship_tag": "ABX9TyOXg/y7jTDm9/gWfPH0yVRG",
      "include_colab_link": true
    },
    "kernelspec": {
      "name": "python3",
      "display_name": "Python 3"
    },
    "language_info": {
      "name": "python"
    }
  },
  "cells": [
    {
      "cell_type": "markdown",
      "metadata": {
        "id": "view-in-github",
        "colab_type": "text"
      },
      "source": [
        "<a href=\"https://colab.research.google.com/github/ppoelman-groeipunt/public-projects/blob/main/comprehensions.ipynb\" target=\"_parent\"><img src=\"https://colab.research.google.com/assets/colab-badge.svg\" alt=\"Open In Colab\"/></a>"
      ]
    },
    {
      "cell_type": "markdown",
      "source": [
        "# COMPREHENSIONS\n",
        "\n",
        "Comprehensions zijn een fundamenteel concept in Python om code beknopter en beter leesbaar te maken.\n",
        "\n",
        "Met een comprehension kan je **in één regel code een datastructuur maken of transformeren** op een gemakkelijk te begrijpen (*comprehend*) manier."
      ],
      "metadata": {
        "id": "vjqN65OE6A4K"
      }
    },
    {
      "cell_type": "markdown",
      "source": [
        "## 1. Voorbeeld\n",
        "\n",
        "*   Voer de volgende code-cel uit om een list te maken die 5 getallen bevat."
      ],
      "metadata": {
        "id": "OjoKVSPkoKuu"
      }
    },
    {
      "cell_type": "code",
      "execution_count": null,
      "metadata": {
        "id": "sMIr9DyZ6ARl"
      },
      "outputs": [],
      "source": [
        "# Create a list of numbers\n",
        "nums = [5, 2, -1, 4, 10]"
      ]
    },
    {
      "cell_type": "markdown",
      "source": [
        "*   Gebruik een `for` loop om een list `squares` te maken met de kwadraten van de getallen uit de gegeven list."
      ],
      "metadata": {
        "id": "CesXesNVH056"
      }
    },
    {
      "cell_type": "code",
      "source": [
        "# TODO - write your code below\n",
        "squares = []\n",
        "for ...\n",
        "\n",
        "# Print the list\n",
        "print(squares)"
      ],
      "metadata": {
        "id": "3JrRUW2fHpoc"
      },
      "execution_count": null,
      "outputs": []
    },
    {
      "cell_type": "markdown",
      "source": [
        "Met een *list comprehension* bereik je hetzelfde resultaat met slechts één regel code.\n",
        "\n",
        "*   Verifieer door de onderstaande code-cel uit te voeren."
      ],
      "metadata": {
        "id": "s_uIvHcnKREg"
      }
    },
    {
      "cell_type": "code",
      "source": [
        "# Square the numbers using a list comprehension\n",
        "squares = [num ** 2 for num in nums]\n",
        "\n",
        "# Print the list\n",
        "print(squares)"
      ],
      "metadata": {
        "id": "1hLsSekcKRgM"
      },
      "execution_count": null,
      "outputs": []
    },
    {
      "cell_type": "markdown",
      "source": [
        "## 2. List comprehensions\n",
        "\n",
        "### Syntax\n",
        "\n",
        "\n",
        "```\n",
        "new_list = [expression for item in iterable]\n",
        "```\n",
        "\n",
        "Je kan een list comprehension schrijven over elk itereerbaar object (*iterable*): list, range, tuple, string, dictionary, ...\n",
        "\n",
        "### Voorbeelden"
      ],
      "metadata": {
        "id": "BZJ31v8LoRLP"
      }
    },
    {
      "cell_type": "markdown",
      "source": [
        "*   Voorspel de uitvoer van de volgende code-cellen en verifieer je voorspelling door de code uit te voeren."
      ],
      "metadata": {
        "id": "P9wtGmazQycd"
      }
    },
    {
      "cell_type": "code",
      "source": [
        "result = [i for i in range(1, 11)]\n",
        "print(result)"
      ],
      "metadata": {
        "id": "T4kxqxezoY38"
      },
      "execution_count": null,
      "outputs": []
    },
    {
      "cell_type": "code",
      "source": [
        "result = [num ** 2 for num in range(-5, 6)]\n",
        "print(result)"
      ],
      "metadata": {
        "id": "eH1paVlWau32"
      },
      "execution_count": null,
      "outputs": []
    },
    {
      "cell_type": "code",
      "source": [
        "print('Enter integer numbers separated by spaces:')\n",
        "nums = input('> ').split()\n",
        "print(nums)"
      ],
      "metadata": {
        "id": "jYWqg7eJQz26"
      },
      "execution_count": null,
      "outputs": []
    },
    {
      "cell_type": "code",
      "source": [
        "nums = [int(num) for num in nums]\n",
        "print(nums)"
      ],
      "metadata": {
        "id": "wXfua59EX6VR"
      },
      "execution_count": null,
      "outputs": []
    },
    {
      "cell_type": "code",
      "source": [
        "words = 'Simple is better than complex'.split()\n",
        "result = [len(word) for word in words]\n",
        "print(result)"
      ],
      "metadata": {
        "id": "E1DYicTzBi6R"
      },
      "execution_count": null,
      "outputs": []
    },
    {
      "cell_type": "markdown",
      "source": [
        "## 3. Condition on the iterable\n",
        "\n",
        "Je kan optioneel een **filter** toepassen op de items die door de expression geëvalueerd worden door een `if` condition toe te voegen op de iterable.\n",
        "\n",
        "### Syntax\n",
        "\n",
        "```\n",
        "new_list = [expression for item in iterable (if condition)]\n",
        "```"
      ],
      "metadata": {
        "id": "JyUA1oPupHK8"
      }
    },
    {
      "cell_type": "markdown",
      "source": [
        "### Voorbeeld 3.1"
      ],
      "metadata": {
        "id": "co6q-fAa0Uaq"
      }
    },
    {
      "cell_type": "code",
      "source": [
        "temps = [16, 12, 22, 18, 27]\n",
        "\n",
        "# Filter elements by condition\n",
        "hot_temps = [temp for temp in temps if temp > 20]\n",
        "\n",
        "print(hot_temps)"
      ],
      "metadata": {
        "id": "IXbNjDzQ5MuN"
      },
      "execution_count": null,
      "outputs": []
    },
    {
      "cell_type": "markdown",
      "source": [
        "### Voorbeeld 3.2"
      ],
      "metadata": {
        "id": "6rGubecl0Xx0"
      }
    },
    {
      "cell_type": "code",
      "source": [
        "quote = 'Simple is better than complex'\n",
        "\n",
        "# Filter vowels from a string\n",
        "vowels = [char for char in quote if char in 'aeiou']\n",
        "\n",
        "print(vowels)"
      ],
      "metadata": {
        "id": "9UwClXhSph21"
      },
      "execution_count": null,
      "outputs": []
    },
    {
      "cell_type": "code",
      "source": [
        "# Create a set object to print unique values\n",
        "unique = set(vowels)\n",
        "\n",
        "print(type(unique))\n",
        "print(unique)"
      ],
      "metadata": {
        "id": "ySGHIM-AtqwP"
      },
      "execution_count": null,
      "outputs": []
    },
    {
      "cell_type": "code",
      "source": [
        "# Convert to list\n",
        "unique_list = list(unique)\n",
        "\n",
        "print(unique_list)"
      ],
      "metadata": {
        "id": "FXn0yWMttrTS"
      },
      "execution_count": null,
      "outputs": []
    },
    {
      "cell_type": "code",
      "source": [
        "# Print sorted list\n",
        "print(sorted(unique_list))"
      ],
      "metadata": {
        "id": "nhnGOQkbtr2m"
      },
      "execution_count": null,
      "outputs": []
    },
    {
      "cell_type": "markdown",
      "source": [
        "Een alternatieve manier met een **set** comprehension:"
      ],
      "metadata": {
        "id": "P8oF6W1n0gfG"
      }
    },
    {
      "cell_type": "code",
      "source": [
        "quote = 'Simple is better than complex.'\n",
        "\n",
        "# Example of a set comprehension\n",
        "unique_vowels = {char for char in quote if char in 'aeiou'}\n",
        "\n",
        "print(unique_vowels)"
      ],
      "metadata": {
        "id": "pvx911Gb6IRe"
      },
      "execution_count": null,
      "outputs": []
    },
    {
      "cell_type": "code",
      "source": [
        "# Print sorted list\n",
        "print(sorted(unique_vowels))"
      ],
      "metadata": {
        "id": "5TVzKdFTuJ5L"
      },
      "execution_count": null,
      "outputs": []
    },
    {
      "cell_type": "markdown",
      "source": [
        "## 4. Condition on the expression\n",
        "\n",
        "### Syntax\n",
        "\n",
        "```\n",
        "new_list = [expression (if condition) for item in iterable ]\n",
        "```\n",
        "\n",
        "### Voorbeeld"
      ],
      "metadata": {
        "id": "b1nEiub9pjUe"
      }
    },
    {
      "cell_type": "code",
      "source": [
        "values = [5, -2, 8, -1, 9]\n",
        "\n",
        "# Replace negative numbers by zero\n",
        "new_values = [value if value > 0 else 0 for value in values]\n",
        "\n",
        "print(new_values)"
      ],
      "metadata": {
        "id": "usYsnkFEpwcy"
      },
      "execution_count": null,
      "outputs": []
    },
    {
      "cell_type": "markdown",
      "source": [
        "## 5. Dictionary comprehensions"
      ],
      "metadata": {
        "id": "mHSodckvpz0R"
      }
    },
    {
      "cell_type": "markdown",
      "source": [
        "### Voorbeeld 5.1"
      ],
      "metadata": {
        "id": "e8L3JDakz2Ph"
      }
    },
    {
      "cell_type": "code",
      "source": [
        "nums = [1, 2, 3, 4, 5]\n",
        "\n",
        "squares = {num: num ** 2 for num in nums}\n",
        "\n",
        "print(squares)"
      ],
      "metadata": {
        "id": "X6MhTRSu-Y6O"
      },
      "execution_count": null,
      "outputs": []
    },
    {
      "cell_type": "markdown",
      "source": [
        "### Voorbeeld 5.2"
      ],
      "metadata": {
        "id": "VzeEtZ5jz5lE"
      }
    },
    {
      "cell_type": "code",
      "source": [
        "country_to_capital = {\n",
        "    'Belgium': 'Brussels',\n",
        "    'France': 'Paris',\n",
        "    'Spain': 'Madrid'\n",
        "}\n",
        "\n",
        "capital_to_country = {capital: country for country, capital in country_to_capital.items()}\n",
        "\n",
        "print(capital_to_country)"
      ],
      "metadata": {
        "id": "ZVlhM9wtEVFj"
      },
      "execution_count": null,
      "outputs": []
    },
    {
      "cell_type": "markdown",
      "source": [
        "### Voorbeeld 5.3"
      ],
      "metadata": {
        "id": "QJxB18AXz_IJ"
      }
    },
    {
      "cell_type": "code",
      "source": [
        "celsius_temps = {'Tokyo': 20, 'Paris': 15, 'New York': 10}\n",
        "\n",
        "fahrenheit_temps = {city: (temp * 9 / 5) + 32 for city, temp in celsius_temps.items()}\n",
        "\n",
        "print(fahrenheit_temps)"
      ],
      "metadata": {
        "id": "kii_GVE49iwa"
      },
      "execution_count": null,
      "outputs": []
    },
    {
      "cell_type": "markdown",
      "source": [
        "## 6. Oefeningen"
      ],
      "metadata": {
        "id": "Rj4a9Y82p5H3"
      }
    },
    {
      "cell_type": "markdown",
      "source": [
        "### Oefening 1\n",
        "\n",
        "Gegeven een list met prijzen. Schrijf een comprehension om een nieuwe list te genereren met de prijzen uit de gegeven list verhoogd met 21 procent."
      ],
      "metadata": {
        "id": "V74KwVnwKSyU"
      }
    },
    {
      "cell_type": "code",
      "source": [
        "prices = [1200, 800, 300, 100, 500]\n",
        "\n",
        "# TODO - write your code below\n",
        "result =\n",
        "\n",
        "print(result)"
      ],
      "metadata": {
        "id": "PbXLDxZkKUlk"
      },
      "execution_count": null,
      "outputs": []
    },
    {
      "cell_type": "markdown",
      "source": [
        "### Oefening 2\n",
        "\n",
        "Schrijf een list comprehension om alle elementen van een gegeven list met numerieke strings te converteren naar integers.\n"
      ],
      "metadata": {
        "id": "I_kMkYwjKHoR"
      }
    },
    {
      "cell_type": "code",
      "source": [
        "nums = ['1', '2', '3', '4', '5']\n",
        "\n",
        "# TODO - write your code below\n",
        "nums =\n",
        "\n",
        "print(nums)"
      ],
      "metadata": {
        "id": "BByf1w5xKIWR"
      },
      "execution_count": null,
      "outputs": []
    },
    {
      "cell_type": "markdown",
      "source": [
        "### Oefening 3\n",
        "\n",
        "Herschrijf onderstaande code met behulp van een list comprehension."
      ],
      "metadata": {
        "id": "IOAQuwyMKEk6"
      }
    },
    {
      "cell_type": "code",
      "source": [
        "text = 'Python is an awesome programming language'\n",
        "word_lengths = []\n",
        "for word in text.split():\n",
        "    word_lengths.append(len(word))\n",
        "print(word_lengths)"
      ],
      "metadata": {
        "id": "pt6UgQ8EKGFh"
      },
      "execution_count": null,
      "outputs": []
    },
    {
      "cell_type": "code",
      "source": [
        "# TODO - write your code below\n"
      ],
      "metadata": {
        "id": "HYtXN8ZEOtHP"
      },
      "execution_count": null,
      "outputs": []
    },
    {
      "cell_type": "markdown",
      "source": [
        "### Oefening 4\n",
        "\n",
        "Herschrijf onderstaande code met behulp van een list comprehension."
      ],
      "metadata": {
        "id": "gYszuxmgKBAZ"
      }
    },
    {
      "cell_type": "code",
      "source": [
        "even_numbers = []\n",
        "for i in range(1, 11):\n",
        "    if i % 2 == 0:\n",
        "        even_numbers.append(i)\n",
        "print(even_numbers)"
      ],
      "metadata": {
        "id": "NV5Wrmywp-2C"
      },
      "execution_count": null,
      "outputs": []
    },
    {
      "cell_type": "code",
      "source": [
        "# TODO - write your code below\n"
      ],
      "metadata": {
        "id": "Ih2q10R-Nz7J"
      },
      "execution_count": null,
      "outputs": []
    },
    {
      "cell_type": "markdown",
      "source": [
        "### Oefening 5\n",
        "\n",
        "Gegeven een list met integers. Schrijf een comprehension om enkel de even getallen met 1 te vermeerderen."
      ],
      "metadata": {
        "id": "y72OQ39pKOBa"
      }
    },
    {
      "cell_type": "code",
      "source": [
        "nums = [1, 2, 4, 5, 7]\n",
        "\n",
        "# TODO - write your code below\n",
        "result =\n",
        "\n",
        "print(result)"
      ],
      "metadata": {
        "id": "ktA8xk-KKQJj"
      },
      "execution_count": null,
      "outputs": []
    },
    {
      "cell_type": "markdown",
      "source": [
        "### Oefening 6\n",
        "\n",
        "Schrijf een comprehension om een list te maken van alle getallen tussen 1 en 20 die deelbaar zijn door 3."
      ],
      "metadata": {
        "id": "2c2hJ7JOKLb2"
      }
    },
    {
      "cell_type": "code",
      "source": [
        "# TODO - write your code below\n",
        "result =\n",
        "\n",
        "print(result)"
      ],
      "metadata": {
        "id": "VODZm-7hKNV8"
      },
      "execution_count": null,
      "outputs": []
    },
    {
      "cell_type": "markdown",
      "source": [
        "### Oefening 7\n",
        "\n",
        "Gegeven een puntenlijst. Schrijf een comprenhension om een **oplopend gesorteerde** list te genereren met de punten die hoger zijn dan het gemiddelde."
      ],
      "metadata": {
        "id": "3t5a9k_dMZyz"
      }
    },
    {
      "cell_type": "code",
      "source": [
        "scores = [8, 16, 13, 9, 19, 14, 13, 4, 20, 15]\n",
        "\n",
        "# TODO - write your code below\n",
        "result =\n",
        "\n",
        "print(result)"
      ],
      "metadata": {
        "id": "a2aKtvMWMYV1"
      },
      "execution_count": null,
      "outputs": []
    },
    {
      "cell_type": "markdown",
      "source": [
        "### Oefening 8\n",
        "\n",
        "Schrijf een comprehension om alle klinkers uit een gegeven string te verwijderen."
      ],
      "metadata": {
        "id": "Xm4-kkz4KQoA"
      }
    },
    {
      "cell_type": "code",
      "source": [
        "text = 'Exercise to drill list comprehensions in your head.'\n",
        "\n",
        "# TODO - write your code below\n",
        "result =\n",
        "\n",
        "print(result)"
      ],
      "metadata": {
        "id": "9lJuaPrRKSYs"
      },
      "execution_count": null,
      "outputs": []
    },
    {
      "cell_type": "markdown",
      "source": [
        "### Oefening 9\n",
        "\n",
        "Gegeven een list `products`. Gebruik een comprehension om een list `available` te maken met de producten die in stock zijn.\n",
        "\n",
        "\n"
      ],
      "metadata": {
        "id": "ssaE3XaxMjX6"
      }
    },
    {
      "cell_type": "code",
      "source": [
        "products = [\n",
        "    {'name': 'Laptop', 'price': 1200, 'stock': 5},\n",
        "    {'name': 'Smartphone', 'price': 800, 'stock': 0},\n",
        "    {'name': 'Tablet', 'price': 300, 'stock': 10},\n",
        "    {'name': 'Headphones', 'price': 100, 'stock': 3},\n",
        "    {'name': 'Monitor', 'price': 500, 'stock': 0}\n",
        "]\n",
        "\n",
        "# TODO - write your code below\n",
        "available =\n",
        "\n",
        "print(available)"
      ],
      "metadata": {
        "id": "x3tN8-hbMl1T"
      },
      "execution_count": null,
      "outputs": []
    },
    {
      "cell_type": "markdown",
      "source": [
        "### Oefening 10\n",
        "\n",
        "Schrijf een comprehension om een dictionary te genereren waarin de *keys* letters zijn en de *values* de posities van de letters in het alfabet aangeven. In de dictionary lees je dan bijvoorbeeld dat de positie van de letter `'d'` in het alfabet 4 is."
      ],
      "metadata": {
        "id": "RwwJOQA4Mg8-"
      }
    },
    {
      "cell_type": "code",
      "source": [
        "# TODO - write your code below\n"
      ],
      "metadata": {
        "id": "SnNtwfCeMi8Z"
      },
      "execution_count": null,
      "outputs": []
    },
    {
      "cell_type": "markdown",
      "source": [
        "-- einde document --"
      ],
      "metadata": {
        "id": "SUb3CU_I_i7a"
      }
    }
  ]
}